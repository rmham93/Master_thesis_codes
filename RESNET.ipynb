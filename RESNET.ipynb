{
 "cells": [
  {
   "cell_type": "code",
   "execution_count": 29,
   "id": "0fa90ff7",
   "metadata": {},
   "outputs": [],
   "source": [
    "import os\n",
    "import pandas as pd\n",
    "import numpy as np\n",
    "import tensorflow as tf\n",
    "from tensorflow import keras\n",
    "from tensorflow.keras.preprocessing.image import ImageDataGenerator\n",
    "from tensorflow.keras.applications.resnet50 import ResNet50\n",
    "from keras_preprocessing.image import ImageDataGenerator\n",
    "from PIL import ImageFile, Image\n",
    "ImageFile.LOAD_TRUNCATED_IMAGES = True\n",
    "import matplotlib.pyplot as plt\n",
    "from keras.preprocessing import image\n",
    "from keras.models import load_model"
   ]
  },
  {
   "cell_type": "code",
   "execution_count": 30,
   "id": "48534b56",
   "metadata": {},
   "outputs": [
    {
     "name": "stderr",
     "output_type": "stream",
     "text": [
      "C:\\Users\\IDU\\anaconda3\\envs\\tens_env\\lib\\site-packages\\IPython\\core\\interactiveshell.py:3172: DtypeWarning: Columns (56,60,75) have mixed types.Specify dtype option on import or set low_memory=False.\n",
      "  has_raised = await self.run_ast_nodes(code_ast.body, cell_name,\n"
     ]
    }
   ],
   "source": [
    "df = pd.read_csv('../../TEZ/MODANISA/prod_details.csv')"
   ]
  },
  {
   "cell_type": "code",
   "execution_count": 31,
   "id": "339c34f3",
   "metadata": {},
   "outputs": [],
   "source": [
    "df = df[['productid','category']]"
   ]
  },
  {
   "cell_type": "code",
   "execution_count": 32,
   "id": "83302170",
   "metadata": {},
   "outputs": [],
   "source": [
    "pd.set_option('display.max_rows', None)\n",
    "ls =dict(df['category'].value_counts())"
   ]
  },
  {
   "cell_type": "code",
   "execution_count": 33,
   "id": "351ce7f9",
   "metadata": {},
   "outputs": [
    {
     "data": {
      "text/plain": [
       "252082"
      ]
     },
     "execution_count": 33,
     "metadata": {},
     "output_type": "execute_result"
    }
   ],
   "source": [
    "len(df)"
   ]
  },
  {
   "cell_type": "code",
   "execution_count": 34,
   "id": "509f5025",
   "metadata": {},
   "outputs": [],
   "source": [
    "for key, value in ls.items():\n",
    "   \n",
    "    if value < 4554:\n",
    "        i = df[(df.category == key)].index\n",
    "        df.drop(i, inplace=True)"
   ]
  },
  {
   "cell_type": "code",
   "execution_count": 35,
   "id": "b0f93cd0",
   "metadata": {},
   "outputs": [
    {
     "data": {
      "text/plain": [
       "86289"
      ]
     },
     "execution_count": 35,
     "metadata": {},
     "output_type": "execute_result"
    }
   ],
   "source": [
    "len(df)"
   ]
  },
  {
   "cell_type": "code",
   "execution_count": 36,
   "id": "4a91670c",
   "metadata": {},
   "outputs": [
    {
     "data": {
      "text/plain": [
       "10"
      ]
     },
     "execution_count": 36,
     "metadata": {},
     "output_type": "execute_result"
    }
   ],
   "source": [
    "len( df['category'].unique() ) #classes"
   ]
  },
  {
   "cell_type": "code",
   "execution_count": 37,
   "id": "3b1479c4",
   "metadata": {},
   "outputs": [
    {
     "data": {
      "text/html": [
       "<div>\n",
       "<style scoped>\n",
       "    .dataframe tbody tr th:only-of-type {\n",
       "        vertical-align: middle;\n",
       "    }\n",
       "\n",
       "    .dataframe tbody tr th {\n",
       "        vertical-align: top;\n",
       "    }\n",
       "\n",
       "    .dataframe thead th {\n",
       "        text-align: right;\n",
       "    }\n",
       "</style>\n",
       "<table border=\"1\" class=\"dataframe\">\n",
       "  <thead>\n",
       "    <tr style=\"text-align: right;\">\n",
       "      <th></th>\n",
       "      <th>productid</th>\n",
       "      <th>category</th>\n",
       "    </tr>\n",
       "  </thead>\n",
       "  <tbody>\n",
       "    <tr>\n",
       "      <th>3</th>\n",
       "      <td>1168509</td>\n",
       "      <td>Tunik</td>\n",
       "    </tr>\n",
       "    <tr>\n",
       "      <th>5</th>\n",
       "      <td>7981329</td>\n",
       "      <td>Takım</td>\n",
       "    </tr>\n",
       "    <tr>\n",
       "      <th>9</th>\n",
       "      <td>7891483</td>\n",
       "      <td>Omuz Çantası</td>\n",
       "    </tr>\n",
       "    <tr>\n",
       "      <th>10</th>\n",
       "      <td>7941048</td>\n",
       "      <td>Saat</td>\n",
       "    </tr>\n",
       "    <tr>\n",
       "      <th>11</th>\n",
       "      <td>263823</td>\n",
       "      <td>Kap / Pardesü</td>\n",
       "    </tr>\n",
       "  </tbody>\n",
       "</table>\n",
       "</div>"
      ],
      "text/plain": [
       "    productid       category\n",
       "3     1168509          Tunik\n",
       "5     7981329          Takım\n",
       "9     7891483   Omuz Çantası\n",
       "10    7941048           Saat\n",
       "11     263823  Kap / Pardesü"
      ]
     },
     "execution_count": 37,
     "metadata": {},
     "output_type": "execute_result"
    }
   ],
   "source": [
    "df.head()"
   ]
  },
  {
   "cell_type": "code",
   "execution_count": 38,
   "id": "e5ca46c1",
   "metadata": {},
   "outputs": [],
   "source": [
    "def append_ext(fn):\n",
    "    return str(fn)+\".jpg\"\n",
    "\n",
    "df[\"productid\"]=df['productid'].apply(append_ext)\n",
    "df = df.astype('str')"
   ]
  },
  {
   "cell_type": "code",
   "execution_count": 39,
   "id": "692165b0",
   "metadata": {},
   "outputs": [
    {
     "data": {
      "text/plain": [
       "<AxesSubplot:>"
      ]
     },
     "execution_count": 39,
     "metadata": {},
     "output_type": "execute_result"
    },
    {
     "data": {
      "image/png": "[encoded data removed]",
      "text/plain": [
       "<Figure size 720x360 with 1 Axes>"
      ]
     },
     "metadata": {
      "needs_background": "light"
     },
     "output_type": "display_data"
    }
   ],
   "source": [
    "df['category'].hist(figsize=(10,5))"
   ]
  },
  {
   "cell_type": "code",
   "execution_count": 40,
   "id": "ef1756ef",
   "metadata": {},
   "outputs": [
    {
     "name": "stderr",
     "output_type": "stream",
     "text": [
      "C:\\Users\\IDU\\anaconda3\\envs\\tens_env\\lib\\site-packages\\keras_preprocessing\\image\\dataframe_iterator.py:279: UserWarning: Found 19967 invalid image filename(s) in x_col=\"productid\". These filename(s) will be ignored.\n",
      "  warnings.warn(\n"
     ]
    },
    {
     "name": "stdout",
     "output_type": "stream",
     "text": [
      "Found 49742 validated image filenames belonging to 10 classes.\n"
     ]
    },
    {
     "name": "stderr",
     "output_type": "stream",
     "text": [
      "C:\\Users\\IDU\\anaconda3\\envs\\tens_env\\lib\\site-packages\\keras_preprocessing\\image\\dataframe_iterator.py:279: UserWarning: Found 19967 invalid image filename(s) in x_col=\"productid\". These filename(s) will be ignored.\n",
      "  warnings.warn(\n"
     ]
    },
    {
     "name": "stdout",
     "output_type": "stream",
     "text": [
      "Found 16580 validated image filenames belonging to 10 classes.\n"
     ]
    }
   ],
   "source": [
    "datagen = ImageDataGenerator( rescale= 1./255,\n",
    "                              validation_split= 0.25)\n",
    "\n",
    "train_gen = datagen.flow_from_dataframe(dataframe=df, \n",
    "                                        directory='C:/Users/IDU/Desktop/dataset',\n",
    "                                        x_col= 'productid',\n",
    "                                        y_col= 'category',\n",
    "                                        class_mode= \"categorical\",\n",
    "                                        color_mode= 'rgb',\n",
    "                                        subset= 'training',\n",
    "                                        target_size= (200,250),\n",
    "                                        batch_size=32 )\n",
    "\n",
    "test_gen = datagen.flow_from_dataframe( dataframe= df, \n",
    "                                        directory= 'C:/Users/IDU/Desktop/dataset',\n",
    "                                        x_col= 'productid',\n",
    "                                        y_col= 'category',\n",
    "                                        subset= 'validation',\n",
    "                                        class_mode= \"categorical\",\n",
    "                                        color_mode= 'rgb',\n",
    "                                        target_size= (200,250),\n",
    "                                        batch_size= 32)\n"
   ]
  },
  {
   "cell_type": "code",
   "execution_count": 41,
   "id": "5ba79b06",
   "metadata": {},
   "outputs": [],
   "source": [
    "#MODEL\n",
    "\n",
    "input_shape=(100,135,3)\n",
    "\n",
    "model = ResNet50( include_top=False , input_shape= input_shape , classes=10)"
   ]
  },
  {
   "cell_type": "code",
   "execution_count": 44,
   "id": "99aea03f",
   "metadata": {},
   "outputs": [],
   "source": [
    "x =tf.keras.layers.GlobalAveragePooling2D()(model.output)\n",
    "\n",
    "x = tf.keras.layers.Dense(1024, activation='relu')(x)\n",
    "\n",
    "y = tf.keras.layers.Dense(10, activation= 'softmax')(x)\n",
    "\n",
    "model = tf.keras.models.Model(inputs=model.input, outputs=y)"
   ]
  },
  {
   "cell_type": "code",
   "execution_count": 47,
   "id": "95a88fbc",
   "metadata": {},
   "outputs": [],
   "source": [
    "model.compile( optimizer= \"adam\", loss= \"categorical_crossentropy\", metrics= ['accuracy'] )"
   ]
  },
  {
   "cell_type": "code",
   "execution_count": null,
   "id": "9d6dbc4c",
   "metadata": {
    "scrolled": true
   },
   "outputs": [
    {
     "name": "stdout",
     "output_type": "stream",
     "text": [
      "Epoch 1/100\n",
      "1555/1555 [==============================] - 47673s 31s/step - loss: 0.6686 - accuracy: 0.7764 - val_loss: 0.7235 - val_accuracy: 0.7531\n",
      "Epoch 2/100\n",
      "1555/1555 [==============================] - 47932s 31s/step - loss: 0.4657 - accuracy: 0.8421 - val_loss: 0.5670 - val_accuracy: 0.8081\n",
      "Epoch 3/100\n",
      "1115/1555 [====================>.........] - ETA: 3:31:45 - loss: 0.3916 - accuracy: 0.8662"
     ]
    }
   ],
   "source": [
    "history= model.fit(train_gen,\n",
    "          validation_data= test_gen,\n",
    "          batch_size=32,\n",
    "          epochs= 100)"
   ]
  },
  {
   "cell_type": "code",
   "execution_count": null,
   "id": "4ce0b518",
   "metadata": {},
   "outputs": [],
   "source": [
    "plt.plot(history.history['accuracy'])\n",
    "plt.plot(history.history['val_accuracy'])\n",
    "plt.title('model accuracy')\n",
    "plt.ylabel('accuracy')\n",
    "plt.xlabel('epoch')\n",
    "plt.legend(['train', 'val'], loc='upper left')\n",
    "plt.show()\n",
    "plt.savefig('model_accuracy.png')"
   ]
  },
  {
   "cell_type": "code",
   "execution_count": null,
   "id": "e6526761",
   "metadata": {},
   "outputs": [],
   "source": [
    "plt.plot(history.history['loss'])\n",
    "plt.plot(history.history['val_loss'])\n",
    "plt.title('model loss')\n",
    "plt.ylabel('loss')\n",
    "plt.xlabel('epoch')\n",
    "plt.legend(['train', 'val'], loc='upper left')\n",
    "plt.show()\n",
    "plt.savefig('model_loss.png')"
   ]
  },
  {
   "cell_type": "code",
   "execution_count": null,
   "id": "e4f03ff6",
   "metadata": {},
   "outputs": [],
   "source": []
  },
  {
   "cell_type": "code",
   "execution_count": null,
   "id": "e73e292f",
   "metadata": {},
   "outputs": [],
   "source": [
    "!mkdir -p saved_model\n",
    "model.save('model_10class/my_model3')"
   ]
  },
  {
   "cell_type": "code",
   "execution_count": null,
   "id": "62c7da6f",
   "metadata": {},
   "outputs": [],
   "source": []
  },
  {
   "cell_type": "code",
   "execution_count": null,
   "id": "f8c96e0b",
   "metadata": {},
   "outputs": [],
   "source": []
  },
  {
   "cell_type": "code",
   "execution_count": null,
   "id": "c60bd995",
   "metadata": {},
   "outputs": [],
   "source": []
  },
  {
   "cell_type": "code",
   "execution_count": null,
   "id": "540087d1",
   "metadata": {},
   "outputs": [],
   "source": []
  },
  {
   "cell_type": "code",
   "execution_count": null,
   "id": "6f8a1581",
   "metadata": {},
   "outputs": [],
   "source": []
  },
  {
   "cell_type": "code",
   "execution_count": null,
   "id": "40711046",
   "metadata": {},
   "outputs": [],
   "source": []
  },
  {
   "cell_type": "code",
   "execution_count": null,
   "id": "cb414915",
   "metadata": {},
   "outputs": [],
   "source": []
  },
  {
   "cell_type": "code",
   "execution_count": null,
   "id": "22280f58",
   "metadata": {},
   "outputs": [],
   "source": [
    "model.summary()"
   ]
  },
  {
   "cell_type": "code",
   "execution_count": null,
   "id": "6181f087",
   "metadata": {},
   "outputs": [],
   "source": []
  }
 ],
 "metadata": {
  "kernelspec": {
   "display_name": "Python 3 (ipykernel)",
   "language": "python",
   "name": "python3"
  },
  "language_info": {
   "codemirror_mode": {
    "name": "ipython",
    "version": 3
   },
   "file_extension": ".py",
   "mimetype": "text/x-python",
   "name": "python",
   "nbconvert_exporter": "python",
   "pygments_lexer": "ipython3",
   "version": "3.8.8"
  }
 },
 "nbformat": 4,
 "nbformat_minor": 5
}
