{
 "cells": [
  {
   "cell_type": "code",
   "execution_count": 112,
   "id": "d12ed2f2",
   "metadata": {},
   "outputs": [],
   "source": [
    "import pandas as pd\n",
    "import numpy as np\n",
    "import os\n",
    "import time\n",
    "import requests\n",
    "import sys\n",
    "import tensorflow as tf\n",
    "from tensorflow.keras.preprocessing.image import ImageDataGenerator\n",
    "from tensorflow.keras.applications.resnet50 import ResNet50\n",
    "from keras_preprocessing.image import ImageDataGenerator"
   ]
  },
  {
   "cell_type": "code",
   "execution_count": 19,
   "id": "5e3a1692",
   "metadata": {},
   "outputs": [],
   "source": [
    "whole_images = pd.read_csv(\"whole_images.csv\")"
   ]
  },
  {
   "cell_type": "code",
   "execution_count": 20,
   "id": "fec3544d",
   "metadata": {},
   "outputs": [
    {
     "data": {
      "text/html": [
       "<div>\n",
       "<style scoped>\n",
       "    .dataframe tbody tr th:only-of-type {\n",
       "        vertical-align: middle;\n",
       "    }\n",
       "\n",
       "    .dataframe tbody tr th {\n",
       "        vertical-align: top;\n",
       "    }\n",
       "\n",
       "    .dataframe thead th {\n",
       "        text-align: right;\n",
       "    }\n",
       "</style>\n",
       "<table border=\"1\" class=\"dataframe\">\n",
       "  <thead>\n",
       "    <tr style=\"text-align: right;\">\n",
       "      <th></th>\n",
       "      <th>id</th>\n",
       "      <th>mainpicLink</th>\n",
       "      <th>otherpics</th>\n",
       "    </tr>\n",
       "  </thead>\n",
       "  <tbody>\n",
       "    <tr>\n",
       "      <th>0</th>\n",
       "      <td>4580</td>\n",
       "      <td>http://fns.modanisa.com/r/pro2/2012/06/26/yari...</td>\n",
       "      <td>\\N</td>\n",
       "    </tr>\n",
       "    <tr>\n",
       "      <th>1</th>\n",
       "      <td>4610</td>\n",
       "      <td>http://fns.modanisa.com/r/pro2/2012/06/26/yari...</td>\n",
       "      <td>\\N</td>\n",
       "    </tr>\n",
       "    <tr>\n",
       "      <th>2</th>\n",
       "      <td>10758</td>\n",
       "      <td>http://fns.modanisa.com/r/pro2/2012/11/09/buyu...</td>\n",
       "      <td>http://fns.modanisa.com/r/pro2/2012/11/09/buyu...</td>\n",
       "    </tr>\n",
       "    <tr>\n",
       "      <th>3</th>\n",
       "      <td>16491</td>\n",
       "      <td>http://fns.modanisa.com/r/pro2/2013/01/22/onu-...</td>\n",
       "      <td>http://fns.modanisa.com/r/pro2/2013/01/22/onu-...</td>\n",
       "    </tr>\n",
       "    <tr>\n",
       "      <th>4</th>\n",
       "      <td>16493</td>\n",
       "      <td>http://fns.modanisa.com/r/pro2/2013/01/22/onu-...</td>\n",
       "      <td>http://fns.modanisa.com/r/pro2/2013/01/22/onu-...</td>\n",
       "    </tr>\n",
       "  </tbody>\n",
       "</table>\n",
       "</div>"
      ],
      "text/plain": [
       "      id                                        mainpicLink  \\\n",
       "0   4580  http://fns.modanisa.com/r/pro2/2012/06/26/yari...   \n",
       "1   4610  http://fns.modanisa.com/r/pro2/2012/06/26/yari...   \n",
       "2  10758  http://fns.modanisa.com/r/pro2/2012/11/09/buyu...   \n",
       "3  16491  http://fns.modanisa.com/r/pro2/2013/01/22/onu-...   \n",
       "4  16493  http://fns.modanisa.com/r/pro2/2013/01/22/onu-...   \n",
       "\n",
       "                                           otherpics  \n",
       "0                                                 \\N  \n",
       "1                                                 \\N  \n",
       "2  http://fns.modanisa.com/r/pro2/2012/11/09/buyu...  \n",
       "3  http://fns.modanisa.com/r/pro2/2013/01/22/onu-...  \n",
       "4  http://fns.modanisa.com/r/pro2/2013/01/22/onu-...  "
      ]
     },
     "execution_count": 20,
     "metadata": {},
     "output_type": "execute_result"
    }
   ],
   "source": [
    "whole_images.head()"
   ]
  },
  {
   "cell_type": "code",
   "execution_count": 8,
   "id": "52bbadb7",
   "metadata": {},
   "outputs": [],
   "source": [
    "prod_details =pd.read_csv(\"prod_details.csv\",low_memory=False)"
   ]
  },
  {
   "cell_type": "code",
   "execution_count": 11,
   "id": "28174181",
   "metadata": {},
   "outputs": [
    {
     "data": {
      "text/html": [
       "<div>\n",
       "<style scoped>\n",
       "    .dataframe tbody tr th:only-of-type {\n",
       "        vertical-align: middle;\n",
       "    }\n",
       "\n",
       "    .dataframe tbody tr th {\n",
       "        vertical-align: top;\n",
       "    }\n",
       "\n",
       "    .dataframe thead th {\n",
       "        text-align: right;\n",
       "    }\n",
       "</style>\n",
       "<table border=\"1\" class=\"dataframe\">\n",
       "  <thead>\n",
       "    <tr style=\"text-align: right;\">\n",
       "      <th></th>\n",
       "      <th>productid</th>\n",
       "      <th>category</th>\n",
       "    </tr>\n",
       "  </thead>\n",
       "  <tbody>\n",
       "    <tr>\n",
       "      <th>0</th>\n",
       "      <td>8007176</td>\n",
       "      <td>Erkek Çocuk Pantolon</td>\n",
       "    </tr>\n",
       "    <tr>\n",
       "      <th>1</th>\n",
       "      <td>8010707</td>\n",
       "      <td>Erkek Çocuk Spor Ayakkabı</td>\n",
       "    </tr>\n",
       "    <tr>\n",
       "      <th>2</th>\n",
       "      <td>1871765</td>\n",
       "      <td>Kız Çocuk Elbise</td>\n",
       "    </tr>\n",
       "    <tr>\n",
       "      <th>3</th>\n",
       "      <td>1168509</td>\n",
       "      <td>Tunik</td>\n",
       "    </tr>\n",
       "    <tr>\n",
       "      <th>4</th>\n",
       "      <td>8131584</td>\n",
       "      <td>Büyük Beden Takım</td>\n",
       "    </tr>\n",
       "    <tr>\n",
       "      <th>...</th>\n",
       "      <td>...</td>\n",
       "      <td>...</td>\n",
       "    </tr>\n",
       "    <tr>\n",
       "      <th>252077</th>\n",
       "      <td>8124609</td>\n",
       "      <td>Erkek Çocuk Pantolon</td>\n",
       "    </tr>\n",
       "    <tr>\n",
       "      <th>252078</th>\n",
       "      <td>8027155</td>\n",
       "      <td>Kız Çocuk T-Shirt</td>\n",
       "    </tr>\n",
       "    <tr>\n",
       "      <th>252079</th>\n",
       "      <td>8092969</td>\n",
       "      <td>Spor Tayt</td>\n",
       "    </tr>\n",
       "    <tr>\n",
       "      <th>252080</th>\n",
       "      <td>184235</td>\n",
       "      <td>Eşarp</td>\n",
       "    </tr>\n",
       "    <tr>\n",
       "      <th>252081</th>\n",
       "      <td>8082013</td>\n",
       "      <td>Erkek Çocuk Sweatshirt</td>\n",
       "    </tr>\n",
       "  </tbody>\n",
       "</table>\n",
       "<p>252082 rows × 2 columns</p>\n",
       "</div>"
      ],
      "text/plain": [
       "        productid                   category\n",
       "0         8007176       Erkek Çocuk Pantolon\n",
       "1         8010707  Erkek Çocuk Spor Ayakkabı\n",
       "2         1871765           Kız Çocuk Elbise\n",
       "3         1168509                      Tunik\n",
       "4         8131584          Büyük Beden Takım\n",
       "...           ...                        ...\n",
       "252077    8124609       Erkek Çocuk Pantolon\n",
       "252078    8027155          Kız Çocuk T-Shirt\n",
       "252079    8092969                  Spor Tayt\n",
       "252080     184235                      Eşarp\n",
       "252081    8082013     Erkek Çocuk Sweatshirt\n",
       "\n",
       "[252082 rows x 2 columns]"
      ]
     },
     "execution_count": 11,
     "metadata": {},
     "output_type": "execute_result"
    }
   ],
   "source": [
    "prod_details = prod_details[['productid','category']]\n",
    "prod_details"
   ]
  },
  {
   "cell_type": "code",
   "execution_count": 12,
   "id": "b6e01f56",
   "metadata": {},
   "outputs": [],
   "source": [
    "pd.set_option(\"display.max_rows\", None)\n",
    "ls=(prod_details['category'].value_counts(dropna=True))"
   ]
  },
  {
   "cell_type": "code",
   "execution_count": 14,
   "id": "01de5bd6",
   "metadata": {},
   "outputs": [
    {
     "name": "stdout",
     "output_type": "stream",
     "text": [
      "deleted  186996\n"
     ]
    }
   ],
   "source": [
    "count=0\n",
    "for key, value in ls.items():\n",
    "\n",
    "    if (int(value)<6200):\n",
    "        count+=value\n",
    "        prod_details.drop(prod_details.index[prod_details['category'] == str(key)], inplace=True)\n",
    "\n",
    "print('deleted ',count)\n",
    "#we wiill let only 6 categories"
   ]
  },
  {
   "cell_type": "code",
   "execution_count": 15,
   "id": "951bace1",
   "metadata": {},
   "outputs": [
    {
     "data": {
      "text/plain": [
       "65086"
      ]
     },
     "execution_count": 15,
     "metadata": {},
     "output_type": "execute_result"
    }
   ],
   "source": [
    "len(prod_details)"
   ]
  },
  {
   "cell_type": "code",
   "execution_count": null,
   "id": "7ad80f9d",
   "metadata": {
    "scrolled": false
   },
   "outputs": [],
   "source": [
    "prod_arr = np.array(prod_details)\n",
    "\n",
    "for each in prod_arr:\n",
    "     \n",
    "    try:\n",
    "        product = (whole_images.loc[whole_images['id'] == each[0]])\n",
    "        url = str(product['mainpicLink'].values[0])  \n",
    "        #print(\"url :\",url)\n",
    "        r = requests.get(url, allow_redirects=True)\n",
    "        #enter your target location to save images.\n",
    "        \n",
    "        path ='C:/Users/IDU/Desktop/modanisa/'+str(each[1]) \n",
    "        os.makedirs(path, exist_ok = True)\n",
    "        target_loc = path +\"/\"+ str(each[0])+'.jpg'\n",
    "        #print(target_loc)\n",
    "        open(target_loc, 'wb').write(r.content)     \n",
    "\n",
    "    except Exception as e:\n",
    "        print(str(each[0]),\" problem \",str(each[1]))\n",
    "    "
   ]
  },
  {
   "cell_type": "code",
   "execution_count": 113,
   "id": "bcb53c3d",
   "metadata": {},
   "outputs": [
    {
     "data": {
      "text/plain": [
       "['Eşarp', 'Omuz Çantası', 'Takım', 'Tesettür Elbise', 'Tunik', 'Şal']"
      ]
     },
     "execution_count": 113,
     "metadata": {},
     "output_type": "execute_result"
    }
   ],
   "source": [
    "os.listdir('C:/Users/IDU/Desktop/modanisa/')"
   ]
  },
  {
   "cell_type": "code",
   "execution_count": 114,
   "id": "a44393d9",
   "metadata": {},
   "outputs": [
    {
     "name": "stdout",
     "output_type": "stream",
     "text": [
      "Found 63565 images belonging to 6 classes.\n"
     ]
    }
   ],
   "source": [
    "train_datagen = ImageDataGenerator(\n",
    "        rescale=1./255,\n",
    "        shear_range=0.2,\n",
    "        zoom_range=0.2,\n",
    "        horizontal_flip=True)\n",
    "test_datagen = ImageDataGenerator(rescale=1./255)\n",
    "train_generator = train_datagen.flow_from_directory(\n",
    "        '../modanisa',\n",
    "        target_size=(150, 150),\n",
    "        batch_size=32,\n",
    "        class_mode='binary')"
   ]
  },
  {
   "cell_type": "code",
   "execution_count": null,
   "id": "5be8d413",
   "metadata": {},
   "outputs": [],
   "source": []
  },
  {
   "cell_type": "code",
   "execution_count": null,
   "id": "a56ac8cb",
   "metadata": {},
   "outputs": [],
   "source": []
  },
  {
   "cell_type": "code",
   "execution_count": null,
   "id": "95175426",
   "metadata": {},
   "outputs": [],
   "source": []
  },
  {
   "cell_type": "code",
   "execution_count": null,
   "id": "b9423525",
   "metadata": {},
   "outputs": [],
   "source": []
  }
 ],
 "metadata": {
  "kernelspec": {
   "display_name": "Python 3 (ipykernel)",
   "language": "python",
   "name": "python3"
  },
  "language_info": {
   "codemirror_mode": {
    "name": "ipython",
    "version": 3
   },
   "file_extension": ".py",
   "mimetype": "text/x-python",
   "name": "python",
   "nbconvert_exporter": "python",
   "pygments_lexer": "ipython3",
   "version": "3.8.8"
  }
 },
 "nbformat": 4,
 "nbformat_minor": 5
}
