{
 "cells": [
  {
   "cell_type": "code",
   "execution_count": 3,
   "id": "2fb31918",
   "metadata": {},
   "outputs": [],
   "source": [
    "import os\n",
    "import pandas as pd\n",
    "import numpy as np\n",
    "import tensorflow as tf\n",
    "from tensorflow.keras.preprocessing.image import ImageDataGenerator\n",
    "from tensorflow.keras.applications.resnet50 import ResNet50\n",
    "from keras_preprocessing.image import ImageDataGenerator\n",
    "from PIL import ImageFile\n",
    "ImageFile.LOAD_TRUNCATED_IMAGES = True\n",
    "import matplotlib.pyplot as plt\n",
    "from keras.preprocessing import image\n",
    "from keras.models import load_model"
   ]
  },
  {
   "cell_type": "code",
   "execution_count": 4,
   "id": "0d47b689",
   "metadata": {},
   "outputs": [
    {
     "name": "stderr",
     "output_type": "stream",
     "text": [
      "C:\\Users\\IDU\\anaconda3\\envs\\keras_env\\lib\\site-packages\\IPython\\core\\interactiveshell.py:3437: DtypeWarning: Columns (56,60,75) have mixed types.Specify dtype option on import or set low_memory=False.\n",
      "  exec(code_obj, self.user_global_ns, self.user_ns)\n"
     ]
    }
   ],
   "source": [
    "df = pd.read_csv('C:/Users/IDU/OneDrive - GTÜ/Desktop/TEZ/MODANISA/prod_details.csv')"
   ]
  },
  {
   "cell_type": "code",
   "execution_count": 5,
   "id": "55d76a05",
   "metadata": {},
   "outputs": [],
   "source": [
    "df = df[['productid','category']]"
   ]
  },
  {
   "cell_type": "code",
   "execution_count": 6,
   "id": "0d4ec6ac",
   "metadata": {},
   "outputs": [],
   "source": [
    "pd.set_option(\"display.max_rows\", None)\n",
    "ls=(df['category'].value_counts(dropna=True))\n",
    "ls=dict(ls)"
   ]
  },
  {
   "cell_type": "code",
   "execution_count": 7,
   "id": "2a54d198",
   "metadata": {},
   "outputs": [
    {
     "name": "stdout",
     "output_type": "stream",
     "text": [
      "deleted  165793\n"
     ]
    }
   ],
   "source": [
    "count=0\n",
    "for key, value in ls.items():\n",
    "    if (int(value)<4500):\n",
    "        count+=value\n",
    "        df.drop(df.index[df['category'] == str(key)], inplace=True)\n",
    "\n",
    "print('deleted ',count)"
   ]
  },
  {
   "cell_type": "code",
   "execution_count": 8,
   "id": "7cb611e3",
   "metadata": {},
   "outputs": [
    {
     "data": {
      "text/plain": [
       "<AxesSubplot:>"
      ]
     },
     "execution_count": 8,
     "metadata": {},
     "output_type": "execute_result"
    },
    {
     "data": {
      "image/png": "[encoded data removed]",
      "text/plain": [
       "<Figure size 432x288 with 1 Axes>"
      ]
     },
     "metadata": {
      "needs_background": "light"
     },
     "output_type": "display_data"
    }
   ],
   "source": [
    "(df['category']).hist()"
   ]
  },
  {
   "cell_type": "code",
   "execution_count": 9,
   "id": "c6605072",
   "metadata": {},
   "outputs": [
    {
     "data": {
      "text/plain": [
       "86289"
      ]
     },
     "execution_count": 9,
     "metadata": {},
     "output_type": "execute_result"
    }
   ],
   "source": [
    "len(df)"
   ]
  },
  {
   "cell_type": "code",
   "execution_count": 10,
   "id": "e0cae9c8",
   "metadata": {},
   "outputs": [
    {
     "data": {
      "text/plain": [
       "10"
      ]
     },
     "execution_count": 10,
     "metadata": {},
     "output_type": "execute_result"
    }
   ],
   "source": [
    "len(np.sort(df['category'].unique()))"
   ]
  },
  {
   "cell_type": "code",
   "execution_count": 11,
   "id": "417850d6",
   "metadata": {},
   "outputs": [],
   "source": [
    "def append_ext(fn):\n",
    "    if not '.jpg' in str(fn):\n",
    "        return str(fn)+\".jpg\"\n",
    "    else:\n",
    "        return str(fn)\n",
    "\n",
    "#train= df1.iloc[0:10]\n",
    "df[\"productid\"]=df[\"productid\"].apply(append_ext)\n",
    "df = df.astype('str')"
   ]
  },
  {
   "cell_type": "code",
   "execution_count": 12,
   "id": "e2354b93",
   "metadata": {},
   "outputs": [],
   "source": [
    "#MODEL\n",
    "\n",
    "input_shape=(100,100,3)\n",
    "\n",
    "model = ResNet50( include_top= False , input_shape= input_shape , classes= 10)"
   ]
  },
  {
   "cell_type": "code",
   "execution_count": 13,
   "id": "ec351a04",
   "metadata": {},
   "outputs": [
    {
     "ename": "SyntaxError",
     "evalue": "invalid syntax (<ipython-input-13-1652aa557cc9>, line 2)",
     "output_type": "error",
     "traceback": [
      "\u001b[1;36m  File \u001b[1;32m\"<ipython-input-13-1652aa557cc9>\"\u001b[1;36m, line \u001b[1;32m2\u001b[0m\n\u001b[1;33m    learning ratei artır\u001b[0m\n\u001b[1;37m             ^\u001b[0m\n\u001b[1;31mSyntaxError\u001b[0m\u001b[1;31m:\u001b[0m invalid syntax\n"
     ]
    }
   ],
   "source": [
    "#note: scaling stretch mode minsize:0, aspect ratio \n",
    "#learning ratei artır "
   ]
  },
  {
   "cell_type": "code",
   "execution_count": null,
   "id": "77d4c315",
   "metadata": {},
   "outputs": [],
   "source": [
    "datagen = ImageDataGenerator(rescale=1./255, \n",
    "                             validation_split=0.2 )\n",
    "\n",
    "train_generator= datagen.flow_from_dataframe(df, \n",
    "                                            directory='C:/Users/IDU/Videos/dataset/',\n",
    "                                            x_col='productid',\n",
    "                                            y_col='category',\n",
    "                                            subset=\"training\",\n",
    "                                            color_mode='rgb',\n",
    "                                            target_size= (100,100),\n",
    "                                            batch_size=32)\n",
    "\n",
    "test_generator= datagen.flow_from_dataframe(df, \n",
    "                                            directory='C:/Users/IDU/Videos/dataset/',\n",
    "                                            subset=\"validation\",\n",
    "                                            x_col='productid',\n",
    "                                            y_col='category',\n",
    "                                            color_mode='rgb',\n",
    "                                            target_size= (100,100),\n",
    "                                            batch_size=32)\n",
    "\n"
   ]
  },
  {
   "cell_type": "code",
   "execution_count": null,
   "id": "1dec7bf4",
   "metadata": {},
   "outputs": [],
   "source": [
    "model.compile(loss='categorical_crossentropy', optimizer='adam', metrics=['accuracy'])"
   ]
  },
  {
   "cell_type": "code",
   "execution_count": null,
   "id": "55dd5530",
   "metadata": {},
   "outputs": [],
   "source": [
    "history =model.fit(train_generator, batch_size=32,\n",
    "                   validation_data=test_generator,\n",
    "                   epochs=50 )\n",
    "\n",
    "#step_per_epoch calculation ** try"
   ]
  },
  {
   "cell_type": "code",
   "execution_count": null,
   "id": "9549b03a",
   "metadata": {},
   "outputs": [],
   "source": [
    "plt.plot(history.history['accuracy'])\n",
    "plt.plot(history.history['val_accuracy'])\n",
    "plt.title('model accuracy')\n",
    "plt.ylabel('accuracy')\n",
    "plt.xlabel('epoch')\n",
    "plt.legend(['train', 'val'], loc='upper left')\n",
    "plt.show()"
   ]
  },
  {
   "cell_type": "code",
   "execution_count": null,
   "id": "fafe8807",
   "metadata": {},
   "outputs": [],
   "source": [
    "plt.plot(history.history['loss'])\n",
    "plt.plot(history.history['val_loss'])\n",
    "plt.title('model loss')\n",
    "plt.ylabel('loss')\n",
    "plt.xlabel('epoch')\n",
    "plt.legend(['train', 'val'], loc='upper left')\n",
    "plt.show()"
   ]
  },
  {
   "cell_type": "code",
   "execution_count": null,
   "id": "0db3fbfe",
   "metadata": {},
   "outputs": [],
   "source": [
    "!mkdir -p saved_model\n",
    "model.save('saved_model/my_model2')"
   ]
  },
  {
   "cell_type": "code",
   "execution_count": 19,
   "id": "e6fd7be8",
   "metadata": {},
   "outputs": [],
   "source": [
    "model.save('my_model2.h5')"
   ]
  },
  {
   "cell_type": "code",
   "execution_count": 24,
   "id": "27287f0d",
   "metadata": {},
   "outputs": [
    {
     "data": {
      "text/plain": [
       "[129564.609375,\n",
       " 2.591190814971924,\n",
       " 3.315051555633545,\n",
       " 2.308523654937744,\n",
       " 3.1393775939941406,\n",
       " 2.438875913619995,\n",
       " 2.442477226257324,\n",
       " 2.3769843578338623,\n",
       " 2.487267017364502,\n",
       " 2.089506149291992,\n",
       " 1.7599143981933594,\n",
       " 1.473402976989746,\n",
       " 1.4518492221832275,\n",
       " 0.9756888747215271,\n",
       " 4630.85546875,\n",
       " 10.598981857299805,\n",
       " 1.431636095046997,\n",
       " 0.9578829407691956,\n",
       " 0.916742205619812,\n",
       " 1.1560091972351074,\n",
       " 2.4248738288879395,\n",
       " 2.689530372619629,\n",
       " 1.1494841575622559,\n",
       " 2.178741455078125,\n",
       " 0.7590429782867432,\n",
       " 1.5892609357833862,\n",
       " 1.5310025215148926,\n",
       " 0.8703489303588867,\n",
       " 2.255988121032715,\n",
       " 0.8927680253982544,\n",
       " 0.9743330478668213,\n",
       " 0.9347406625747681,\n",
       " 0.941425621509552,\n",
       " 0.7459285855293274,\n",
       " 0.6177475452423096,\n",
       " 1.0568320751190186,\n",
       " 0.8938868045806885,\n",
       " 0.7763593196868896,\n",
       " 0.5954957604408264,\n",
       " 0.6373124718666077,\n",
       " 0.7412757873535156,\n",
       " 1.3780415058135986,\n",
       " 1.0436971187591553,\n",
       " 0.9064262509346008,\n",
       " 2.249359607696533,\n",
       " 0.870907723903656,\n",
       " 0.7244611382484436,\n",
       " 2.2358014583587646,\n",
       " 2.225682020187378,\n",
       " 15.679390907287598]"
      ]
     },
     "execution_count": 24,
     "metadata": {},
     "output_type": "execute_result"
    }
   ],
   "source": [
    "history.history[\"val_loss\"]"
   ]
  },
  {
   "cell_type": "code",
   "execution_count": null,
   "id": "885b2dc6",
   "metadata": {},
   "outputs": [],
   "source": []
  },
  {
   "cell_type": "code",
   "execution_count": null,
   "id": "7b22388f",
   "metadata": {},
   "outputs": [],
   "source": []
  },
  {
   "cell_type": "code",
   "execution_count": null,
   "id": "7bea29d5",
   "metadata": {},
   "outputs": [],
   "source": []
  },
  {
   "cell_type": "code",
   "execution_count": null,
   "id": "e95f65ec",
   "metadata": {},
   "outputs": [],
   "source": []
  },
  {
   "cell_type": "code",
   "execution_count": null,
   "id": "55256c68",
   "metadata": {},
   "outputs": [],
   "source": []
  },
  {
   "cell_type": "code",
   "execution_count": null,
   "id": "68fc85ea",
   "metadata": {},
   "outputs": [],
   "source": []
  }
 ],
 "metadata": {
  "kernelspec": {
   "display_name": "Python 3",
   "language": "python",
   "name": "python3"
  },
  "language_info": {
   "codemirror_mode": {
    "name": "ipython",
    "version": 3
   },
   "file_extension": ".py",
   "mimetype": "text/x-python",
   "name": "python",
   "nbconvert_exporter": "python",
   "pygments_lexer": "ipython3",
   "version": "3.8.10"
  }
 },
 "nbformat": 4,
 "nbformat_minor": 5
}
